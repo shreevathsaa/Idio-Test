{
 "cells": [
  {
   "cell_type": "code",
   "execution_count": 1,
   "metadata": {
    "collapsed": true
   },
   "outputs": [],
   "source": [
    "import urllib"
   ]
  },
  {
   "cell_type": "code",
   "execution_count": 2,
   "metadata": {
    "collapsed": true
   },
   "outputs": [],
   "source": [
    "from urllib.request import urlopen"
   ]
  },
  {
   "cell_type": "code",
   "execution_count": 3,
   "metadata": {
    "collapsed": true
   },
   "outputs": [],
   "source": [
    "user_agent = 'Mozilla/5.0 (Windows; U; Windows NT 5.1; en-US; rv:1.9.0.7) Gecko/2009021910 Firefox/3.0.7'\n",
    "\n",
    "url = \"http://www.crainscleveland.com/node/688181\"\n",
    "headers={'User-Agent':user_agent,}"
   ]
  },
  {
   "cell_type": "code",
   "execution_count": 4,
   "metadata": {
    "collapsed": true
   },
   "outputs": [],
   "source": [
    "request=urllib.request.Request(url,None,headers)\n",
    "response = urllib.request.urlopen(request)"
   ]
  },
  {
   "cell_type": "code",
   "execution_count": 5,
   "metadata": {
    "collapsed": true
   },
   "outputs": [],
   "source": [
    "from bs4 import BeautifulSoup"
   ]
  },
  {
   "cell_type": "code",
   "execution_count": 6,
   "metadata": {},
   "outputs": [
    {
     "name": "stderr",
     "output_type": "stream",
     "text": [
      "C:\\Users\\computer\\Anaconda3\\lib\\site-packages\\bs4\\__init__.py:181: UserWarning: No parser was explicitly specified, so I'm using the best available HTML parser for this system (\"lxml\"). This usually isn't a problem, but if you run this code on another system, or in a different virtual environment, it may use a different parser and behave differently.\n",
      "\n",
      "The code that caused this warning is on line 193 of the file C:\\Users\\computer\\Anaconda3\\lib\\runpy.py. To get rid of this warning, change code that looks like this:\n",
      "\n",
      " BeautifulSoup(YOUR_MARKUP})\n",
      "\n",
      "to this:\n",
      "\n",
      " BeautifulSoup(YOUR_MARKUP, \"lxml\")\n",
      "\n",
      "  markup_type=markup_type))\n"
     ]
    }
   ],
   "source": [
    "soup = BeautifulSoup(response)"
   ]
  },
  {
   "cell_type": "code",
   "execution_count": 7,
   "metadata": {},
   "outputs": [
    {
     "data": {
      "text/plain": [
       "<title>Cleveland Clinic sets opening for new Lakewood Family Health Center</title>"
      ]
     },
     "execution_count": 7,
     "metadata": {},
     "output_type": "execute_result"
    }
   ],
   "source": [
    "soup.title"
   ]
  },
  {
   "cell_type": "code",
   "execution_count": 8,
   "metadata": {},
   "outputs": [
    {
     "data": {
      "text/plain": [
       "'Cleveland Clinic sets opening for new Lakewood Family Health Center'"
      ]
     },
     "execution_count": 8,
     "metadata": {},
     "output_type": "execute_result"
    }
   ],
   "source": [
    "soup.title.string"
   ]
  },
  {
   "cell_type": "code",
   "execution_count": 9,
   "metadata": {
    "collapsed": true
   },
   "outputs": [],
   "source": [
    "artist_name_list = soup.find(class_='field--name-field-paragraph-body ')\n",
    "artist_name_list_items = artist_name_list.find_all('p')"
   ]
  },
  {
   "cell_type": "code",
   "execution_count": 10,
   "metadata": {},
   "outputs": [
    {
     "name": "stdout",
     "output_type": "stream",
     "text": [
      "<p>\n",
      " Cleveland Clinic is celebrating the opening of its new Lakewood Family Health Center with a community open house from 1-5 p.m. on Saturday, June 30.\n",
      "</p>\n",
      "\n",
      "<p>\n",
      " The center, which will begin welcoming patients on July 11, is an estimated $34 million project that features 60 exam rooms, and a 24/7 full-service emergency department. The facility is located at the southwest corner of Belle and Detroit avenues at 14601 Detroit Ave.\n",
      "</p>\n",
      "\n",
      "<p>\n",
      " The open house will include tours of the new center, health screenings and wellness information, children's activities, healthy refreshments and information on the health center's services.\n",
      "</p>\n",
      "\n",
      "<p>\n",
      " The 64,700-square foot family health center will offer services including the Center for Family Medicine, Internal Medicine, the Center for Lesbian, Gay Bisexual and Transgender Care (LGBT), imaging, an outpatient lab and more, according to a news release. Specialties at the center include cardiology, pulmonary, geriatrics, endocrinology and diabetes care, as well as behavioral health, featuring adult and pediatric psychiatry and adult psychology.\n",
      "</p>\n",
      "\n",
      "<p>\n",
      " The Lakewood Family Health Center fills the void left by the closing of Lakewood Hospital, a decision announced in 2015 and met with strong backlash from the community. The Clinic began transitioning inpatient services out of the hospital in 2016.\n",
      "</p>\n",
      "\n",
      "<p>\n",
      "</p>\n",
      "\n"
     ]
    }
   ],
   "source": [
    "for artist_name in artist_name_list_items:\n",
    "    print(artist_name.prettify())"
   ]
  },
  {
   "cell_type": "code",
   "execution_count": 11,
   "metadata": {},
   "outputs": [
    {
     "data": {
      "text/plain": [
       "\"Cleveland Clinic is celebrating the opening of its new Lakewood Family Health Center with a community open house from 1-5 p.m. on Saturday, June 30.The center, which will begin welcoming patients on July 11, is an estimated $34 million project that features 60 exam rooms, and a 24/7 full-service emergency department. The facility is located at the southwest corner of Belle and Detroit avenues at 14601 Detroit Ave.The open house will include tours of the new center, health screenings and wellness information, children's activities, healthy refreshments and information on the health center's services.The 64,700-square foot family health center will offer services including the Center for Family Medicine, Internal Medicine, the Center for Lesbian, Gay Bisexual and Transgender Care (LGBT), imaging, an outpatient lab and more, according to a news release. Specialties at the center include cardiology, pulmonary, geriatrics, endocrinology and diabetes care, as well as behavioral health, featuring adult and pediatric psychiatry and adult psychology.The Lakewood Family Health Center fills the void left by the closing of Lakewood Hospital, a decision announced in 2015 and met with strong backlash from the community. The Clinic began transitioning inpatient services out of the hospital in 2016.\""
      ]
     },
     "execution_count": 11,
     "metadata": {},
     "output_type": "execute_result"
    }
   ],
   "source": [
    "soup.find_all('p')\n",
    "soup.find_all('p')[0].get_text() + soup.find_all('p')[1].get_text() + soup.find_all('p')[2].get_text() + soup.find_all('p')[3].get_text() + soup.find_all('p')[4].get_text()"
   ]
  },
  {
   "cell_type": "code",
   "execution_count": null,
   "metadata": {
    "collapsed": true
   },
   "outputs": [],
   "source": []
  }
 ],
 "metadata": {
  "kernelspec": {
   "display_name": "Python [conda root]",
   "language": "python",
   "name": "conda-root-py"
  },
  "language_info": {
   "codemirror_mode": {
    "name": "ipython",
    "version": 3
   },
   "file_extension": ".py",
   "mimetype": "text/x-python",
   "name": "python",
   "nbconvert_exporter": "python",
   "pygments_lexer": "ipython3",
   "version": "3.6.3"
  }
 },
 "nbformat": 4,
 "nbformat_minor": 2
}
