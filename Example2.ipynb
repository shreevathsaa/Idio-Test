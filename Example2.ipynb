{
 "cells": [
  {
   "cell_type": "code",
   "execution_count": 1,
   "metadata": {
    "collapsed": true
   },
   "outputs": [],
   "source": [
    "import requests\n",
    "from bs4 import BeautifulSoup"
   ]
  },
  {
   "cell_type": "code",
   "execution_count": 2,
   "metadata": {
    "collapsed": true
   },
   "outputs": [],
   "source": [
    "page = requests.get('https://www.theguardian.com/politics/2018/aug/19/brexit-tory-mps-warn-of-entryism-threat-from-leave-eu-supporters')\n",
    "soup = BeautifulSoup(page.text, 'html.parser')"
   ]
  },
  {
   "cell_type": "code",
   "execution_count": 3,
   "metadata": {},
   "outputs": [
    {
     "data": {
      "text/plain": [
       "<title>Brexit: Tory MPs warn of entryism threat from Leave. EU supporters | Politics | The Guardian</title>"
      ]
     },
     "execution_count": 3,
     "metadata": {},
     "output_type": "execute_result"
    }
   ],
   "source": [
    "soup.title"
   ]
  },
  {
   "cell_type": "code",
   "execution_count": 4,
   "metadata": {},
   "outputs": [
    {
     "name": "stdout",
     "output_type": "stream",
     "text": [
      "<h1 class=\"content__headline \" itemprop=\"headline\">\n",
      "Brexit: Tory MPs warn of entryism threat from Leave.EU supporters\n",
      "</h1>\n"
     ]
    }
   ],
   "source": [
    "artist_name_list = soup.find(class_='content__headline ')\n",
    "print(artist_name_list)"
   ]
  },
  {
   "cell_type": "code",
   "execution_count": 5,
   "metadata": {},
   "outputs": [
    {
     "name": "stdout",
     "output_type": "stream",
     "text": [
      "Brexit: Tory MPs warn of entryism threat from Leave.EU supporters\n"
     ]
    }
   ],
   "source": [
    "company = soup.select('h1.content__headline ')[0].text.strip()\n",
    "print(company)"
   ]
  },
  {
   "cell_type": "code",
   "execution_count": 6,
   "metadata": {},
   "outputs": [
    {
     "data": {
      "text/plain": [
       "'Pro-Brexit group urges supporters to join to back Boris Johnson or Jacob Rees-Mogg for leader'"
      ]
     },
     "execution_count": 6,
     "metadata": {},
     "output_type": "execute_result"
    }
   ],
   "source": [
    "soup.find_all('p')\n",
    "soup.find_all('p')[0].get_text()"
   ]
  },
  {
   "cell_type": "code",
   "execution_count": 7,
   "metadata": {
    "collapsed": true
   },
   "outputs": [],
   "source": [
    "artist_name_list = soup.find(class_='content__article-body from-content-api js-article__body')\n",
    "artist_name_list_items = artist_name_list.find_all('p')"
   ]
  },
  {
   "cell_type": "code",
   "execution_count": 8,
   "metadata": {},
   "outputs": [
    {
     "name": "stdout",
     "output_type": "stream",
     "text": [
      "Conservative MPs are warning of a risk of entryism in the party as the pro-Brexit group Leave.EU encourages its supporters to become members in order to back Boris Johnson orJacob Rees-Moggin a future leadership contest.\n",
      "Conservative party rules mean anyone who has been a member for more than three months can vote in a leadership contest. Grassroots members have the final say between a pair of candidates selected by Conservative MPs in a series of ballots.\n",
      "Leave.EU was set up by the rightwing businessman and Ukip-backerArron Banksto fight the 2016 referendum, but lost out to the more mainstream Vote Leave in its bid to be the official Brexit campaign group.\n",
      "It claims to have 88,000 supporters, and is urging them to “flood” the Tory party to elect a “true Brexiteer” such as Johnson or Rees-Mogg.\n",
      "“These people are absolutely dedicated to their cause. And you don’t need an awful lot of people to make a huge amount of difference – so it’s really worrying,” said the Tory MP Anna Soubry, who has repeatedly rebelled against her party to advocate for a softBrexit.\n",
      "Fed up of how this weak \"conservative\" government has handled Brexit?A leadership contest is inevitable. Join the huge number of our members already flooding the Tory party, ready to elect a true Brexiteer.Help put the spine back into the Tory party:https://t.co/Vgc33bXJWnpic.twitter.com/GUy1UWix07\n",
      "She claimed local associations had few resources to check the credentials of potential members. “Some of it is people who over Europe felt they no longer support us and went off to Ukip and are now rejoining the party,” she said. Ukip’ssupport collapsedin the 2017 general election, as May promised to deliver Brexit.\n",
      "Another Tory MP, George Freeman, said he was deeply concerned about how the party’s future direction could be affected. “The Conservative party has a date with destiny this winter in deciding how to handle Brexit,” he said.\n",
      "“We must resist pressure from Nigel Farage – an unaccountable unelected rabble rouser pushing a hard-right nationalist agenda – to distort the Conservative membership... We should ... fight instead for mainstream voters abandoned by Corbyn.”\n",
      "Fellow MPs Nicky Morgan and Phillip Lee have also sounded the alarm, with Morgan backing a call from the one nation Tory Reform Group to its supporters, urging them to check their membership is up to date.\n",
      "Lee, whoresigned from the governmentover its refusal to back Dominic Grieve’s amendment on giving MPs a meaningful vote, tweeted that there was evidence of “entryism”, and it was time to “wake up and act against a hard-right Momentum”.\n",
      "The latest published figures showed Tory membership at 124,000, making it less than a quarter of the size of Jeremy Corbyn’s Labour party and raising the risk that a relatively small number of activists could influence the outcome of a poll.\n",
      "Tim Bale, a professor of politics at Queen Mary University of London, said: “It does seem like quite a sensible thing for people to do, if they’re ideologically obsessed with Brexit. What we do know is that quite a lot of people joined immediately after Brexit, assuming that there was going to be a leadership contest, so there is a precedent.”\n",
      "In 2016 members did not get the opportunity to vote, as Theresa May became the sole candidate after Andrea Leadsomdropped outat a late stage. Bale added: “It’s difficult to believe that the membership would elect a remainer anyway, so it’s all about the degree of Brexit that they’re going to get from any leader.”\n",
      "With many of May’s MPs inopen revolt over the Chequers dealand a series of important votes looming in the autumn, her leadership appears increasingly fragile.\n",
      "Johnsonresigned as foreign secretary in July, saying he could not support the negotiating position reached in the cabinet awayday at Chequers, which includes accepting a “common rulebook” for the goods and food sectors. He has not called for May to be replaced as prime minister, despite saying that her Brexit plan would leave Britain in “miserable, permanent limbo”.\n",
      "But the pro-Brexit European Research Group (ERG) of MPs, chaired by Rees-Mogg, hasmade clearit is not willing to accept the Chequers deal. Unless May changes course dramatically, that could mean pushing for a change of leadership.\n",
      "Allies of Johnson have denied he is laying the groundwork for a leadership bid, and many in Westminster believe he would be unlikely to muster the backing of enough MPs to make it to the final runoff, when members would get their say.\n",
      "With the ERG adamantly opposed and with Labour also rejecting the white paper, it appears unlikely May can win the “meaningful vote” she has promised MPs on the final deal – and what will happen next is highly uncertain.\n",
      "The prime minister’s director of communications, Robbie Gibb, went on the offensive on social media on Sunday, issuing a warning to both sides. “Nobody else in British politics has a detailed plan for our future relationship with the EU that: delivers on the instruction of the British people; commands sufficient support in Parliament; and is negotiable with the EU,” he tweeted.\n",
      "Nobody else in British politics has a detailed plan for our future relationship with the EU that: delivers on the instruction of the British people; commands sufficient support in Parliament; and is negotiable with the EU. (1/2)#DealForBritain#RoadtoBrexitpic.twitter.com/r5m0xy8Qlu\n",
      "“It’s time to come together, agree a pragmatic Brexit that most people can support and get on with it.\n",
      "Gibb hit out at campaigners pushing for a referendum on the final deal, tweeting: “The prospect of a second referendum would damage UK negotiations.”\n",
      "The government is set to publish the first in a series of technical notices this week designed to prepare the UK for the possibility of a no-deal Brexit. May is likely to come under further pressure from both sides of her fractious party over the content of some of the notices, which will cover areas such as farming, financial services and customs, if they are deemed too alarmist.\n",
      "Leave.EU is one of a number of campaign groups focusing their efforts on influencing Tory party policy, includingLeave Means Leave, which last week announced it was “relaunching the Brexit campaign” to secure a “swift, clean exit” from the EU.\n",
      "The party may also face pressure from the grassroots to give members further power. John Strafford, a veteran Tory campaigner, has written to the party’s board urging it to change the rules so that any MP with the support of 20 Parliamentary colleagues can go forward to the final ballot among the party’s members,the Telegraph reported on Sunday.\n"
     ]
    }
   ],
   "source": [
    "soup.find_all('p')\n",
    "soup.find_all('p')[0].get_text()\n",
    "for paragraph in artist_name_list_items:\n",
    "    soup.find_all('p')[0].get_text()\n",
    "    print(paragraph.get_text(strip=True))"
   ]
  },
  {
   "cell_type": "code",
   "execution_count": 9,
   "metadata": {},
   "outputs": [
    {
     "name": "stdout",
     "output_type": "stream",
     "text": [
      "https://i.guim.co.uk/img/media/2087fc933062e8a54fc8186bf4211bfd1eb33191/0_410_6720_4032/master/6720.jpg?w=300&q=55&auto=format&usm=12&fit=max&s=299d691c4d10239c72b156fa5f7fe16e\n",
      "https://i.guim.co.uk/img/media/92093bf9d5f66a97ba5dfe3e638b5f0a24627f27/57_87_1437_1794/master/1437.jpg?w=300&q=55&auto=format&usm=12&fit=max&s=902f40524ff90f1f3cdfffa7deae3327\n"
     ]
    }
   ],
   "source": [
    "from bs4 import BeautifulSoup\n",
    "import requests\n",
    "\n",
    "url = 'https://www.theguardian.com/politics/2018/aug/19/brexit-tory-mps-warn-of-entryism-threat-from-leave-eu-supporters'\n",
    "# get contents from url\n",
    "content = requests.get(url).content\n",
    "# get soup\n",
    "soup = BeautifulSoup(content,'lxml') # choose lxml parser\n",
    "# find the tag : <img ... >\n",
    "image_tags1 = soup.findAll(class_='maxed responsive-img')\n",
    "image_tags2 = soup.findAll(class_='gu-image')\n",
    "# print out image urls\n",
    "for image_tag in image_tags1:\n",
    "    print(image_tag.get('src'))\n",
    "for image_tag in image_tags2:\n",
    "    print(image_tag.get('src')) "
   ]
  },
  {
   "cell_type": "code",
   "execution_count": null,
   "metadata": {
    "collapsed": true
   },
   "outputs": [],
   "source": []
  }
 ],
 "metadata": {
  "kernelspec": {
   "display_name": "Python [conda root]",
   "language": "python",
   "name": "conda-root-py"
  },
  "language_info": {
   "codemirror_mode": {
    "name": "ipython",
    "version": 3
   },
   "file_extension": ".py",
   "mimetype": "text/x-python",
   "name": "python",
   "nbconvert_exporter": "python",
   "pygments_lexer": "ipython3",
   "version": "3.6.3"
  }
 },
 "nbformat": 4,
 "nbformat_minor": 2
}
