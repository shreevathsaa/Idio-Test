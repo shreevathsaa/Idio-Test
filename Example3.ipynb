{
 "cells": [
  {
   "cell_type": "code",
   "execution_count": 1,
   "metadata": {
    "collapsed": true
   },
   "outputs": [],
   "source": [
    "import requests\n",
    "from bs4 import BeautifulSoup"
   ]
  },
  {
   "cell_type": "code",
   "execution_count": 2,
   "metadata": {
    "collapsed": true
   },
   "outputs": [],
   "source": [
    "page = requests.get('https://etfs.wisdomtree.eu/institutional/uk/en-gb/products/product/etfs-agriculture-agap-lse')\n",
    "soup = BeautifulSoup(page.text, 'html.parser')"
   ]
  },
  {
   "cell_type": "code",
   "execution_count": 3,
   "metadata": {},
   "outputs": [
    {
     "data": {
      "text/plain": [
       "<title id=\"ctl00_ctl00_ctl00_ContentPlaceHolderDefault_pageTitle\">ETFS Agriculture</title>"
      ]
     },
     "execution_count": 3,
     "metadata": {},
     "output_type": "execute_result"
    }
   ],
   "source": [
    "soup.title"
   ]
  },
  {
   "cell_type": "code",
   "execution_count": 4,
   "metadata": {},
   "outputs": [
    {
     "data": {
      "text/plain": [
       "'ETFS Agriculture'"
      ]
     },
     "execution_count": 4,
     "metadata": {},
     "output_type": "execute_result"
    }
   ],
   "source": [
    "soup.title.string"
   ]
  },
  {
   "cell_type": "code",
   "execution_count": 5,
   "metadata": {
    "collapsed": true
   },
   "outputs": [],
   "source": [
    "artist_name_list = soup.find(class_='topDescription')\n",
    "artist_name_list_items = artist_name_list.find_all('p')"
   ]
  },
  {
   "cell_type": "code",
   "execution_count": 6,
   "metadata": {},
   "outputs": [
    {
     "name": "stdout",
     "output_type": "stream",
     "text": [
      "<p id=\"productDescription\" itemprop=\"description\">\n",
      " ETFS Agriculture (AGAP) is designed to enable investors to gain an exposure to a total return investment in a basket of agriculture commodity futures contracts by tracking the Bloomberg Agriculture SubIndex (the \"Index\") and providing a collateral yield.\n",
      " <br/>\n",
      " <br/>\n",
      " AGAP is an exchange traded commodity (\"ETC\"). Its securities can be created and redeemed on demand by authorised participants and traded on exchange just like shares in a company. The ETC is backed by swaps. The payment obligations of the swap counterparties to the Issuer are protected by collateral held which is marked to market daily. The collateral is held in segregated accounts at The Bank of New York Mellon. Details of the collateral held can be found in the Collateral section of the ETF Securities website (www.etfsecurities.com).\n",
      "</p>\n",
      "\n"
     ]
    }
   ],
   "source": [
    "for artist_name in artist_name_list_items:\n",
    "    print(artist_name.prettify())"
   ]
  },
  {
   "cell_type": "code",
   "execution_count": 7,
   "metadata": {},
   "outputs": [
    {
     "data": {
      "text/plain": [
       "'ETFS Agriculture (AGAP) is designed to enable investors to gain an exposure to a total return investment in a basket of agriculture commodity futures contracts by tracking the Bloomberg Agriculture SubIndex (the \"Index\") and providing a collateral yield. AGAP is an exchange traded commodity (\"ETC\"). Its securities can be created and redeemed on demand by authorised participants and traded on exchange just like shares in a company. The ETC is backed by swaps. The payment obligations of the swap counterparties to the Issuer are protected by collateral held which is marked to market daily. The collateral is held in segregated accounts at The Bank of New York Mellon. Details of the collateral held can be found in the Collateral section of the ETF Securities website (www.etfsecurities.com).Please click here for a full description of the Terms & Conditions'"
      ]
     },
     "execution_count": 7,
     "metadata": {},
     "output_type": "execute_result"
    }
   ],
   "source": [
    "soup.find_all('p')\n",
    "soup.find_all('p')[0].get_text() + soup.find_all('p')[1].get_text()"
   ]
  },
  {
   "cell_type": "code",
   "execution_count": null,
   "metadata": {
    "collapsed": true
   },
   "outputs": [],
   "source": []
  }
 ],
 "metadata": {
  "kernelspec": {
   "display_name": "Python [conda root]",
   "language": "python",
   "name": "conda-root-py"
  },
  "language_info": {
   "codemirror_mode": {
    "name": "ipython",
    "version": 3
   },
   "file_extension": ".py",
   "mimetype": "text/x-python",
   "name": "python",
   "nbconvert_exporter": "python",
   "pygments_lexer": "ipython3",
   "version": "3.6.3"
  }
 },
 "nbformat": 4,
 "nbformat_minor": 2
}
